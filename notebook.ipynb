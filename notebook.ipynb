{
 "cells": [
  {
   "cell_type": "code",
   "execution_count": 21,
   "id": "d0eb4f16-5a99-460d-a5ba-706b7ef0bbe7",
   "metadata": {
    "executionCancelledAt": null,
    "executionTime": 15,
    "id": "bA5ajAmk7XH6",
    "lastExecutedAt": 1737813568639,
    "lastExecutedByKernel": "a7051620-b00e-47a1-9f0e-4841150db256",
    "lastScheduledRunId": null,
    "lastSuccessfullyExecutedCode": "# All required libraries are imported here for you.\nimport pandas as pd\nfrom sklearn.linear_model import LogisticRegression\nfrom sklearn.model_selection import train_test_split\nfrom sklearn.ensemble import RandomForestClassifier\nfrom sklearn import metrics\n\n# Load the dataset\ncrops = pd.read_csv(\"soil_measures.csv\")\n\n# Write your code here"
   },
   "outputs": [],
   "source": [
    "import pandas as pd\n",
    "from sklearn.linear_model import LogisticRegression\n",
    "from sklearn.model_selection import train_test_split, GridSearchCV\n",
    "from sklearn.ensemble import RandomForestClassifier\n",
    "from sklearn import metrics\n",
    "\n",
    "# Load the dataset\n",
    "crops = pd.read_csv(\"data/soil_measures.csv\")"
   ]
  },
  {
   "cell_type": "markdown",
   "id": "8f2ebc5b-2a13-40f7-b783-376b8669b26f",
   "metadata": {},
   "source": [
    "Check for missing values."
   ]
  },
  {
   "cell_type": "code",
   "execution_count": 3,
   "id": "1e726383-595b-40ea-8335-0412a88440b0",
   "metadata": {
    "executionCancelledAt": null,
    "executionTime": 50,
    "lastExecutedAt": 1737813568689,
    "lastExecutedByKernel": "a7051620-b00e-47a1-9f0e-4841150db256",
    "lastScheduledRunId": null,
    "lastSuccessfullyExecutedCode": "crops.isna().sum()",
    "outputsMetadata": {
     "0": {
      "height": 245,
      "tableState": {
       "customFilter": {
        "const": {
         "type": "boolean",
         "valid": true,
         "value": true
        },
        "id": "275ee729-06be-4e40-b0c8-eed9255d5c0f",
        "nodeType": "const"
       },
       "quickFilterText": ""
      },
      "type": "dataFrame"
     }
    }
   },
   "outputs": [
    {
     "data": {
      "text/plain": [
       "N       0\n",
       "P       0\n",
       "K       0\n",
       "ph      0\n",
       "crop    0\n",
       "dtype: int64"
      ]
     },
     "execution_count": 3,
     "metadata": {},
     "output_type": "execute_result"
    }
   ],
   "source": [
    "crops.isna().sum()"
   ]
  },
  {
   "cell_type": "code",
   "execution_count": 4,
   "id": "7c115701-3e45-470e-817c-8e46668925c7",
   "metadata": {
    "executionCancelledAt": null,
    "executionTime": 72,
    "lastExecutedAt": 1737813568761,
    "lastExecutedByKernel": "a7051620-b00e-47a1-9f0e-4841150db256",
    "lastScheduledRunId": null,
    "lastSuccessfullyExecutedCode": "crops.dtypes"
   },
   "outputs": [
    {
     "data": {
      "text/plain": [
       "N         int64\n",
       "P         int64\n",
       "K         int64\n",
       "ph      float64\n",
       "crop     object\n",
       "dtype: object"
      ]
     },
     "execution_count": 4,
     "metadata": {},
     "output_type": "execute_result"
    }
   ],
   "source": [
    "crops.dtypes"
   ]
  },
  {
   "cell_type": "code",
   "execution_count": 5,
   "id": "860e14cc-363c-4c3f-bf59-88a06cf32e74",
   "metadata": {
    "executionCancelledAt": null,
    "executionTime": 57,
    "lastExecutedAt": 1737813568818,
    "lastExecutedByKernel": "a7051620-b00e-47a1-9f0e-4841150db256",
    "lastScheduledRunId": null,
    "lastSuccessfullyExecutedCode": "crops[\"crop\"].value_counts()",
    "outputsMetadata": {
     "0": {
      "height": 550,
      "tableState": {
       "quickFilterText": ""
      },
      "type": "dataFrame"
     }
    }
   },
   "outputs": [
    {
     "data": {
      "text/plain": [
       "crop\n",
       "rice           100\n",
       "maize          100\n",
       "chickpea       100\n",
       "kidneybeans    100\n",
       "pigeonpeas     100\n",
       "mothbeans      100\n",
       "mungbean       100\n",
       "blackgram      100\n",
       "lentil         100\n",
       "pomegranate    100\n",
       "banana         100\n",
       "mango          100\n",
       "grapes         100\n",
       "watermelon     100\n",
       "muskmelon      100\n",
       "apple          100\n",
       "orange         100\n",
       "papaya         100\n",
       "coconut        100\n",
       "cotton         100\n",
       "jute           100\n",
       "coffee         100\n",
       "Name: count, dtype: int64"
      ]
     },
     "execution_count": 5,
     "metadata": {},
     "output_type": "execute_result"
    }
   ],
   "source": [
    "crops[\"crop\"].value_counts()"
   ]
  },
  {
   "cell_type": "code",
   "execution_count": 6,
   "id": "afc1ba5a-b0a2-4a2e-8fb5-75ca6cda0cf8",
   "metadata": {
    "executionCancelledAt": null,
    "executionTime": 47,
    "lastExecutedAt": 1737813568865,
    "lastExecutedByKernel": "a7051620-b00e-47a1-9f0e-4841150db256",
    "lastScheduledRunId": null,
    "lastSuccessfullyExecutedCode": "features = [\"N\",\"P\",\"K\",\"ph\"]"
   },
   "outputs": [],
   "source": [
    "features = [\"N\",\"P\",\"K\",\"ph\"]"
   ]
  },
  {
   "cell_type": "code",
   "execution_count": 7,
   "id": "28bfd9a4-50f9-48ee-bcae-efc8d966cac3",
   "metadata": {
    "executionCancelledAt": null,
    "executionTime": 48,
    "lastExecutedAt": 1737813568913,
    "lastExecutedByKernel": "a7051620-b00e-47a1-9f0e-4841150db256",
    "lastScheduledRunId": null,
    "lastSuccessfullyExecutedCode": "X = crops[features]"
   },
   "outputs": [],
   "source": [
    "X = crops[features]"
   ]
  },
  {
   "cell_type": "code",
   "execution_count": 8,
   "id": "f90aa3c0-9ae7-4789-b5a9-97ffdea0e81f",
   "metadata": {
    "executionCancelledAt": null,
    "executionTime": 48,
    "lastExecutedAt": 1737813568961,
    "lastExecutedByKernel": "a7051620-b00e-47a1-9f0e-4841150db256",
    "lastScheduledRunId": null,
    "lastSuccessfullyExecutedCode": "y = crops[[\"crop\"]]",
    "outputsMetadata": {
     "0": {
      "height": 550,
      "tableState": {
       "customFilter": {
        "const": {
         "type": "boolean",
         "valid": true,
         "value": true
        },
        "id": "275ee729-06be-4e40-b0c8-eed9255d5c0f",
        "nodeType": "const"
       },
       "quickFilterText": ""
      },
      "type": "dataFrame"
     }
    }
   },
   "outputs": [],
   "source": [
    "y = crops[[\"crop\"]]"
   ]
  },
  {
   "cell_type": "code",
   "execution_count": 9,
   "id": "d7777a15-38ca-47f9-ac6c-e77d231e2095",
   "metadata": {
    "executionCancelledAt": null,
    "executionTime": 48,
    "lastExecutedAt": 1737813569009,
    "lastExecutedByKernel": "a7051620-b00e-47a1-9f0e-4841150db256",
    "lastScheduledRunId": null,
    "lastSuccessfullyExecutedCode": "X_train, X_test, y_train, y_test = train_test_split(X,y,test_size=0.3)"
   },
   "outputs": [],
   "source": [
    "X_train, X_test, y_train, y_test = train_test_split(X,y,test_size=0.3)"
   ]
  },
  {
   "cell_type": "markdown",
   "id": "892e611e-6066-41f5-8ad5-2613a9a71a50",
   "metadata": {},
   "source": [
    "Trying out logistic regression."
   ]
  },
  {
   "cell_type": "code",
   "execution_count": 10,
   "id": "30e8f134-5a6e-4f73-857b-86965dd0b758",
   "metadata": {
    "executionCancelledAt": null,
    "executionTime": 48,
    "lastExecutedAt": 1737813569057,
    "lastExecutedByKernel": "a7051620-b00e-47a1-9f0e-4841150db256",
    "lastScheduledRunId": null,
    "lastSuccessfullyExecutedCode": "log_reg = LogisticRegression()"
   },
   "outputs": [],
   "source": [
    "log_reg = LogisticRegression()"
   ]
  },
  {
   "cell_type": "code",
   "execution_count": null,
   "id": "d8979c8a-f6ab-476d-b59f-0729aa6312d3",
   "metadata": {
    "collapsed": true,
    "executionCancelledAt": null,
    "executionTime": 72,
    "jupyter": {
     "outputs_hidden": true,
     "source_hidden": false
    },
    "lastExecutedAt": 1737813569129,
    "lastExecutedByKernel": "a7051620-b00e-47a1-9f0e-4841150db256",
    "lastScheduledRunId": null,
    "lastSuccessfullyExecutedCode": "log_reg.fit(X_train, y_train)"
   },
   "outputs": [],
   "source": [
    "log_reg.fit(X_train, y_train)"
   ]
  },
  {
   "cell_type": "code",
   "execution_count": 12,
   "id": "c6d6e23d-f526-4ea8-9ff2-e5b8c6b231bc",
   "metadata": {
    "executionCancelledAt": null,
    "executionTime": 52,
    "lastExecutedAt": 1737813569181,
    "lastExecutedByKernel": "a7051620-b00e-47a1-9f0e-4841150db256",
    "lastScheduledRunId": null,
    "lastSuccessfullyExecutedCode": "y_pred = log_reg.predict(X_test)"
   },
   "outputs": [],
   "source": [
    "y_pred = log_reg.predict(X_test)"
   ]
  },
  {
   "cell_type": "code",
   "execution_count": 13,
   "id": "7187ceeb-9399-4735-99a1-4a18cb2ebfd1",
   "metadata": {
    "executionCancelledAt": null,
    "executionTime": 52,
    "lastExecutedAt": 1737813569233,
    "lastExecutedByKernel": "a7051620-b00e-47a1-9f0e-4841150db256",
    "lastScheduledRunId": null,
    "lastSuccessfullyExecutedCode": "display(metrics.accuracy_score(y_test,y_pred))"
   },
   "outputs": [
    {
     "data": {
      "text/plain": [
       "0.5484848484848485"
      ]
     },
     "metadata": {},
     "output_type": "display_data"
    }
   ],
   "source": [
    "display(metrics.accuracy_score(y_test,y_pred))"
   ]
  },
  {
   "cell_type": "markdown",
   "id": "0e4bce46-fa81-46ce-a6ef-3777578b71fb",
   "metadata": {},
   "source": [
    "Not the best results.\n",
    "Now lets see how a random forest performs."
   ]
  },
  {
   "cell_type": "code",
   "execution_count": 14,
   "id": "50de7847-1a38-4926-873c-be4d6ddd4534",
   "metadata": {
    "executionCancelledAt": null,
    "executionTime": 52,
    "lastExecutedAt": 1737813569285,
    "lastExecutedByKernel": "a7051620-b00e-47a1-9f0e-4841150db256",
    "lastScheduledRunId": null,
    "lastSuccessfullyExecutedCode": "forest = RandomForestClassifier()"
   },
   "outputs": [],
   "source": [
    "forest = RandomForestClassifier()"
   ]
  },
  {
   "cell_type": "code",
   "execution_count": null,
   "id": "be8cd3bc-10a5-4f72-ad30-757553d4a615",
   "metadata": {
    "collapsed": true,
    "executionCancelledAt": null,
    "executionTime": 292,
    "jupyter": {
     "outputs_hidden": true,
     "source_hidden": false
    },
    "lastExecutedAt": 1737813569577,
    "lastExecutedByKernel": "a7051620-b00e-47a1-9f0e-4841150db256",
    "lastScheduledRunId": null,
    "lastSuccessfullyExecutedCode": "forest.fit(X_train,y_train)"
   },
   "outputs": [],
   "source": [
    "forest.fit(X_train,y_train)"
   ]
  },
  {
   "cell_type": "code",
   "execution_count": 16,
   "id": "54e56a87-8d4a-41c5-b00e-ac586f8b85cc",
   "metadata": {
    "executionCancelledAt": null,
    "executionTime": 52,
    "lastExecutedAt": 1737813569629,
    "lastExecutedByKernel": "a7051620-b00e-47a1-9f0e-4841150db256",
    "lastScheduledRunId": null,
    "lastSuccessfullyExecutedCode": "y_pred = forest.predict(X_test)\ndisplay(metrics.accuracy_score(y_test,y_pred))"
   },
   "outputs": [
    {
     "data": {
      "text/plain": [
       "0.7636363636363637"
      ]
     },
     "metadata": {},
     "output_type": "display_data"
    }
   ],
   "source": [
    "y_pred = forest.predict(X_test)\n",
    "display(metrics.accuracy_score(y_test,y_pred))"
   ]
  },
  {
   "cell_type": "markdown",
   "id": "391ce735-eb94-4c57-a7e7-5666d2b35600",
   "metadata": {},
   "source": [
    "Much better!"
   ]
  },
  {
   "cell_type": "markdown",
   "id": "0afad33b-c987-4cae-8ab4-bc87d8a1e775",
   "metadata": {},
   "source": [
    "Let's find the most relevant feature."
   ]
  },
  {
   "cell_type": "code",
   "execution_count": null,
   "id": "7118879e-8903-412e-bd9d-ce3801c478ab",
   "metadata": {
    "collapsed": false,
    "executionCancelledAt": null,
    "executionTime": 890,
    "jupyter": {
     "outputs_hidden": false,
     "source_hidden": false
    },
    "lastExecutedAt": 1737813570519,
    "lastExecutedByKernel": "a7051620-b00e-47a1-9f0e-4841150db256",
    "lastScheduledRunId": null,
    "lastSuccessfullyExecutedCode": "feature_scores = {}\nfor feature in features:\n    new_X=X[feature].values.reshape(-1,1)\n    X_train_new, X_test_new, y_train_new, y_test_new = train_test_split(new_X, y)\n    new_forest = RandomForestClassifier()\n    new_forest.fit(X_train_new, y_train_new)\n    y_pred_new = new_forest.predict(X_test_new)\n    score = metrics.accuracy_score(y_test_new, y_pred_new)\n    feature_scores[feature] = score",
    "outputsMetadata": {
     "0": {
      "height": 550,
      "tableState": {
       "customFilter": {
        "const": {
         "type": "boolean",
         "valid": true,
         "value": true
        },
        "id": "275ee729-06be-4e40-b0c8-eed9255d5c0f",
        "nodeType": "const"
       },
       "quickFilterText": ""
      },
      "type": "dataFrame"
     },
     "1": {
      "height": 550,
      "tableState": {
       "customFilter": {
        "const": {
         "type": "boolean",
         "valid": true,
         "value": true
        },
        "id": "275ee729-06be-4e40-b0c8-eed9255d5c0f",
        "nodeType": "const"
       },
       "quickFilterText": ""
      },
      "type": "dataFrame"
     },
     "2": {
      "height": 550,
      "tableState": {
       "customFilter": {
        "const": {
         "type": "boolean",
         "valid": true,
         "value": true
        },
        "id": "275ee729-06be-4e40-b0c8-eed9255d5c0f",
        "nodeType": "const"
       },
       "quickFilterText": ""
      },
      "type": "dataFrame"
     },
     "3": {
      "height": 550,
      "tableState": {
       "customFilter": {
        "const": {
         "type": "boolean",
         "valid": true,
         "value": true
        },
        "id": "275ee729-06be-4e40-b0c8-eed9255d5c0f",
        "nodeType": "const"
       },
       "quickFilterText": ""
      },
      "type": "dataFrame"
     }
    }
   },
   "outputs": [],
   "source": [
    "feature_scores = {}\n",
    "for feature in features:\n",
    "    new_X=X[feature].values.reshape(-1,1)\n",
    "    X_train_new, X_test_new, y_train_new, y_test_new = train_test_split(new_X, y)\n",
    "    new_forest = RandomForestClassifier()\n",
    "    new_forest.fit(X_train_new, y_train_new)\n",
    "    y_pred_new = new_forest.predict(X_test_new)\n",
    "    score = metrics.accuracy_score(y_test_new, y_pred_new)\n",
    "    feature_scores[feature] = score"
   ]
  },
  {
   "cell_type": "code",
   "execution_count": 18,
   "id": "705d2dc3-cb98-489c-808b-9ad73b7b892f",
   "metadata": {
    "executionCancelledAt": null,
    "executionTime": 49,
    "lastExecutedAt": 1737813570569,
    "lastExecutedByKernel": "a7051620-b00e-47a1-9f0e-4841150db256",
    "lastScheduledRunId": null,
    "lastSuccessfullyExecutedCode": "print(feature_scores)",
    "outputsMetadata": {
     "0": {
      "height": 38,
      "type": "stream"
     }
    }
   },
   "outputs": [
    {
     "name": "stdout",
     "output_type": "stream",
     "text": [
      "{'N': 0.12, 'P': 0.19090909090909092, 'K': 0.3054545454545455, 'ph': 0.13272727272727272}\n"
     ]
    }
   ],
   "source": [
    "print(feature_scores)"
   ]
  },
  {
   "cell_type": "markdown",
   "id": "11ac0a84-4de8-4207-b182-07fb71123aa5",
   "metadata": {},
   "source": [
    "On its own, the content ratio of potassium is the best indicator for the optimal crop choice."
   ]
  },
  {
   "cell_type": "markdown",
   "id": "07cbc1b4",
   "metadata": {},
   "source": [
    "Let's find the best set of parameters."
   ]
  },
  {
   "cell_type": "code",
   "execution_count": 22,
   "id": "5dc7f0b5",
   "metadata": {},
   "outputs": [],
   "source": [
    "param_grid = {\n",
    "    'bootstrap': [True],\n",
    "    'max_depth': [80, 90, 100, 110],\n",
    "    'max_features': [2, 3],\n",
    "    'min_samples_leaf': [3, 4, 5],\n",
    "    'min_samples_split': [8, 10, 12],\n",
    "    'n_estimators': [100, 200, 300, 1000]\n",
    "}\n",
    "\n",
    "forest = RandomForestClassifier()\n",
    "grid = GridSearchCV(estimator=forest, param_grid=param_grid, cv=3, n_jobs=-1)"
   ]
  },
  {
   "cell_type": "code",
   "execution_count": null,
   "id": "9882fc64",
   "metadata": {},
   "outputs": [],
   "source": [
    "grid.fit(X_train, y_train)"
   ]
  },
  {
   "cell_type": "code",
   "execution_count": 28,
   "id": "59de602a",
   "metadata": {},
   "outputs": [
    {
     "data": {
      "text/plain": [
       "{'bootstrap': True,\n",
       " 'max_depth': 80,\n",
       " 'max_features': 2,\n",
       " 'min_samples_leaf': 3,\n",
       " 'min_samples_split': 12,\n",
       " 'n_estimators': 100}"
      ]
     },
     "metadata": {},
     "output_type": "display_data"
    }
   ],
   "source": [
    "display(grid.best_params_)"
   ]
  },
  {
   "cell_type": "markdown",
   "id": "5a47182a",
   "metadata": {},
   "source": [
    "Now that we have our best params, we select the estimator with the best results."
   ]
  },
  {
   "cell_type": "code",
   "execution_count": 25,
   "id": "7e065a93",
   "metadata": {},
   "outputs": [],
   "source": [
    "best_forest = grid.best_estimator_"
   ]
  },
  {
   "cell_type": "code",
   "execution_count": null,
   "id": "ff31df1f",
   "metadata": {},
   "outputs": [],
   "source": [
    "best_forest.fit(X_train,y_train)"
   ]
  },
  {
   "cell_type": "code",
   "execution_count": 27,
   "id": "1080e733",
   "metadata": {},
   "outputs": [
    {
     "data": {
      "text/plain": [
       "0.7757575757575758"
      ]
     },
     "metadata": {},
     "output_type": "display_data"
    }
   ],
   "source": [
    "y_pred = best_forest.predict(X_test)\n",
    "accuracy = metrics.accuracy_score(y_test, y_pred)\n",
    "\n",
    "display(accuracy)"
   ]
  },
  {
   "cell_type": "markdown",
   "id": "e4b4900f",
   "metadata": {},
   "source": [
    "A tiny improvement but an improvement nonetheless."
   ]
  }
 ],
 "metadata": {
  "colab": {
   "name": "Welcome to DataCamp Workspaces.ipynb",
   "provenance": []
  },
  "kernelspec": {
   "display_name": "dataanalysis",
   "language": "python",
   "name": "python3"
  },
  "language_info": {
   "codemirror_mode": {
    "name": "ipython",
    "version": 3
   },
   "file_extension": ".py",
   "mimetype": "text/x-python",
   "name": "python",
   "nbconvert_exporter": "python",
   "pygments_lexer": "ipython3",
   "version": "3.10.12"
  }
 },
 "nbformat": 4,
 "nbformat_minor": 5
}
